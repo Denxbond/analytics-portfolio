{
 "cells": [
  {
   "cell_type": "markdown",
   "id": "9a320a71",
   "metadata": {},
   "source": [
    "# Cohort Retention Analysis\n",
    "This notebook loads the synthetic lifecycle dataset, builds weekly cohorts, and visualizes player retention."
   ]
  },
  {
   "cell_type": "code",
   "execution_count": null,
   "id": "743b83b4",
   "metadata": {},
   "outputs": [],
   "source": [
    "# Import core analysis libraries\n",
    "import pandas as pd\n",
    "import numpy as np\n",
    "import seaborn as sns\n",
    "import matplotlib.pyplot as plt\n",
    "from pathlib import Path\n",
    "\n",
    "# Configure plotting aesthetics for consistent visuals\n",
    "sns.set_theme(style='whitegrid', palette='Blues')\n"
   ]
  },
  {
   "cell_type": "code",
   "execution_count": null,
   "id": "449d53ce",
   "metadata": {},
   "outputs": [],
   "source": [
    "# Resolve the dataset path relative to the notebook location\n",
    "data_path = Path('..') / 'data' / 'synthetic_user_events.csv'\n",
    "\n",
    "# Load the synthetic event log and parse dates for cohort calculations\n",
    "df = pd.read_csv(data_path, parse_dates=['registration_date', 'event_date'])\n",
    "\n",
    "# Inspect the first few records to verify structure\n",
    "df.head()\n"
   ]
  },
  {
   "cell_type": "code",
   "execution_count": null,
   "id": "8a7c9c04",
   "metadata": {},
   "outputs": [],
   "source": [
    "# Align registration and event timestamps to their ISO week starts\n",
    "df['registration_week'] = df['registration_date'] - pd.to_timedelta(df['registration_date'].dt.weekday, unit='D')\n",
    "df['event_week'] = df['event_date'] - pd.to_timedelta(df['event_date'].dt.weekday, unit='D')\n",
    "\n",
    "# Calculate how many users registered each week (cohort size)\n",
    "cohort_sizes = (\n",
    "    df[['user_id', 'registration_week']]\n",
    "    .drop_duplicates()\n",
    "    .groupby('registration_week')\n",
    "    .size()\n",
    ")\n",
    "\n",
    "# Determine the week offset between each event and the player's registration\n",
    "df['cohort_index'] = ((df['event_week'] - df['registration_week']) / np.timedelta64(1, 'W')).round().astype(int)\n",
    "\n",
    "# Count unique active users by cohort and week offset\n",
    "weekly_activity = (\n",
    "    df.groupby(['registration_week', 'cohort_index'])['user_id']\n",
    "    .nunique()\n",
    "    .reset_index(name='active_users')\n",
    ")\n",
    "\n",
    "# Pivot into a retention matrix (cohorts x weeks) and limit to the first 12 weeks\n",
    "retention_matrix = (\n",
    "    weekly_activity.pivot_table(\n",
    "        index='registration_week',\n",
    "        columns='cohort_index',\n",
    "        values='active_users'\n",
    "    )\n",
    "    .sort_index()\n",
    "    .loc[:, 0:11]\n",
    ")\n",
    "\n",
    "# Convert counts to retention percentages by dividing by cohort sizes\n",
    "retention_rates = retention_matrix.div(cohort_sizes, axis=0).fillna(0)\n",
    "retention_rates.head()\n"
   ]
  },
  {
   "cell_type": "code",
   "execution_count": null,
   "id": "433b5b22",
   "metadata": {},
   "outputs": [],
   "source": [
    "# Plot a heatmap to visualize the retention decay across cohorts\n",
    "plt.figure(figsize=(12, 6))\n",
    "heatmap = sns.heatmap(\n",
    "    retention_rates,\n",
    "    annot=True,\n",
    "    fmt='.0%',\n",
    "    cmap='Blues',\n",
    "    cbar_kws={'label': 'Retention'}\n",
    ")\n",
    "plt.title('Weekly Retention by Registration Cohort')\n",
    "plt.xlabel('Weeks Since Registration')\n",
    "plt.ylabel('Registration Week')\n",
    "plt.tight_layout()\n",
    "\n",
    "# Save the heatmap to the reports directory and display it inline\n",
    "output_path = Path('/Users/den/Desktop/analytics-portfolio/retention_cohort_dashboard/reports/retention_heatmap.png')\n",
    "output_path.parent.mkdir(parents=True, exist_ok=True)\n",
    "plt.savefig(output_path, dpi=300)\n",
    "plt.show()\n",
    "print(f'Saved heatmap to {output_path.resolve()}')\n"
   ]
  }
 ],
 "metadata": {
  "kernelspec": {
   "display_name": "Python 3 (ipykernel)",
   "language": "python",
   "name": "python3"
  },
  "language_info": {
   "codemirror_mode": {
    "name": "ipython",
    "version": 3
   },
   "file_extension": ".py",
   "mimetype": "text/x-python",
   "name": "python",
   "nbconvert_exporter": "python",
   "pygments_lexer": "ipython3",
   "version": "3.9.6"
  }
 },
 "nbformat": 4,
 "nbformat_minor": 5
}
