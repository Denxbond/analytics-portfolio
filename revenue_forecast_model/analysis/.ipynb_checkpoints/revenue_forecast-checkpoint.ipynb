{
 "cells": [
  {
   "cell_type": "markdown",
   "metadata": {},
   "source": [
    "# Revenue Forecast for Online Gaming Platform\n",
    "\n",
    "This notebook simulates monthly deposits and churn for a fictional online gaming platform and fits a Holt-Winters exponential smoothing model to forecast net revenue for the next quarter."
   ]
  },
  {
   "cell_type": "code",
   "execution_count": null,
   "metadata": {},
   "outputs": [],
   "source": [
    "import numpy as np\n",
    "import pandas as pd\n",
    "from pathlib import Path\n",
    "from statsmodels.tsa.holtwinters import ExponentialSmoothing\n",
    "import matplotlib.pyplot as plt\n",
    "\n",
    "plt.style.use('seaborn-v0_8-whitegrid')\n",
    "np.random.seed(42)"
   ]
  },
  {
   "cell_type": "code",
   "execution_count": null,
   "metadata": {},
   "outputs": [],
   "source": [
    "# Generate 24 months of synthetic deposits and churn rates\n",
    "dates = pd.date_range('2022-01-01', periods=24, freq='MS')\n",
    "base_deposits = 120000 + np.linspace(0, 15000, len(dates))\n",
    "seasonality = 8000 * np.sin(np.arange(len(dates)) * np.pi / 6)\n",
    "noise = np.random.normal(0, 5000, len(dates))\n",
    "deposits = base_deposits + seasonality + noise\n",
    "\n",
    "churn_base = 0.18 - np.linspace(0, 0.03, len(dates))\n",
    "churn_noise = np.random.normal(0, 0.01, len(dates))\n",
    "churn_rate = np.clip(churn_base + churn_noise, 0.05, 0.35)\n",
    "\n",
    "net_revenue = deposits * (1 - churn_rate)\n",
    "\n",
    "df = pd.DataFrame({\n",
    "    'month': dates,\n",
    "    'deposits': deposits,\n",
    "    'churn_rate': churn_rate,\n",
    "    'net_revenue': net_revenue,\n",
    "})\n",
    "\n",
    "df.head()"
   ]
  },
  {
   "cell_type": "code",
   "execution_count": null,
   "metadata": {},
   "outputs": [],
   "source": [
    "# Fit additive Holt-Winters exponential smoothing and forecast next 3 months\n",
    "model = ExponentialSmoothing(\n",
    "    df['net_revenue'],\n",
    "    trend='add',\n",
    "    seasonal='add',\n",
    "    seasonal_periods=12\n",
    ")\n",
    "fit = model.fit()\n",
    "forecast = fit.forecast(3)\n",
    "\n",
    "forecast_index = pd.date_range(df['month'].iloc[-1] + pd.offsets.MonthBegin(), periods=3, freq='MS')\n",
    "forecast_df = pd.DataFrame({\n",
    "    'month': forecast_index,\n",
    "    'deposits': [np.nan] * 3,\n",
    "    'churn_rate': [np.nan] * 3,\n",
    "    'net_revenue': forecast.values,\n",
    "})\n",
    "\n",
    "combined_df = pd.concat([df, forecast_df], ignore_index=True)\n",
    "combined_df.tail()"
   ]
  },
  {
   "cell_type": "code",
   "execution_count": null,
   "metadata": {},
   "outputs": [],
   "source": [
    "# Export combined historical and forecasted data\n",
    "output_path = Path('../data/synthetic_revenue_data.csv')\n",
    "combined_df.to_csv(output_path, index=False)\n",
    "output_path.resolve()"
   ]
  },
  {
   "cell_type": "code",
   "execution_count": null,
   "metadata": {},
   "outputs": [],
   "source": [
    "# Plot historical vs. forecasted net revenue\n",
    "fig, ax = plt.subplots(figsize=(10, 6))\n",
    "ax.plot(df['month'], df['net_revenue'], marker='o', label='Historical Revenue')\n",
    "ax.plot(forecast_index, forecast, marker='o', linestyle='--', label='Forecasted Revenue')\n",
    "ax.set_title('Monthly Net Revenue Forecast')\n",
    "ax.set_xlabel('Month')\n",
    "ax.set_ylabel('Net Revenue ($)')\n",
    "ax.legend()\n",
    "fig.tight_layout()\n",
    "\n",
    "chart_path = Path('../reports/revenue_forecast_chart.png')\n",
    "fig.savefig(chart_path, dpi=300)\n",
    "chart_path.resolve()"
   ]
  },
  {
   "cell_type": "code",
   "execution_count": null,
   "metadata": {},
   "outputs": [],
   "source": [
    "# Console summary metrics\n",
    "historical_total = df['net_revenue'].sum()\n",
    "next_quarter_total = forecast.sum()\n",
    "\n",
    "slope = np.polyfit(np.arange(len(df)), df['churn_rate'], 1)[0]\n",
    "if slope > 0.001:\n",
    "    churn_trend = 'increasing'\n",
    "elif slope < -0.001:\n",
    "    churn_trend = 'decreasing'\n",
    "else:\n",
    "    churn_trend = 'stable'\n",
    "\n",
    "print(f'Total historical revenue: ${historical_total:,.2f}')\n",
    "print(f'Forecasted next-quarter revenue: ${next_quarter_total:,.2f}')\n",
    "print(f'Churn trend: {churn_trend}')"
   ]
  }
 ],
 "metadata": {
  "kernelspec": {
   "display_name": "Python 3",
   "language": "python",
   "name": "python3"
  },
  "language_info": {
   "codemirror_mode": {
    "name": "ipython",
    "version": 3
   },
   "file_extension": ".py",
   "mimetype": "text/x-python",
   "name": "python",
   "nbconvert_exporter": "python",
   "pygments_lexer": "ipython3",
   "version": "3.11.8"
  }
 },
 "nbformat": 4,
 "nbformat_minor": 5
}
