{
  "cells": [
    {
      "cell_type": "markdown",
      "metadata": {},
      "source": [
        "# Bonus Sensitivity Analysis\n\n",
        "This notebook models how varying bonus percentages impact user conversion, lifetime value (LTV), and gross margin. Synthetic data is generated to illustrate the trade-offs between growth and profitability."
      ]
    },
    {
      "cell_type": "code",
      "execution_count": null,
      "metadata": {},
      "outputs": [],
      "source": [
        "import numpy as np\n",
        "import pandas as pd\n",
        "import matplotlib.pyplot as plt\n\n",
        "plt.style.use('seaborn-v0_8-muted')"
      ]
    },
    {
      "cell_type": "markdown",
      "metadata": {},
      "source": [
        "## 1. Generate synthetic bonus and performance data"
      ]
    },
    {
      "cell_type": "code",
      "execution_count": null,
      "metadata": {},
      "outputs": [],
      "source": [
        "rng = np.random.default_rng(42)\n\n",
        "bonus_pct = np.linspace(0, 0.50, 21)  # 0% to 50% in 2.5% increments\n\n",
        "# Model conversion rate: base 8% with diminishing returns\n",
        "base_conversion = 0.08\n",
        "conv_sensitivity = 0.35\n",
        "user_conversion_rate = base_conversion * (1 + conv_sensitivity * np.sqrt(bonus_pct))\n\n",
        "# Model average LTV: base $120 with bonus-driven uplift and diminishing returns\n",
        "base_ltv = 120\n",
        "ltv_uplift = 0.9\n",
        "average_ltv = base_ltv * (1 + ltv_uplift * (1 - np.exp(-4 * bonus_pct)))\n\n",
        "# Model gross margin: base 55% reduced by bonus costs and higher engagement costs\n",
        "base_margin = 0.55\n",
        "margin_drag = 0.6\n",
        "gross_margin = base_margin - margin_drag * bonus_pct\n\n",
        "# Clip to realistic ranges\n",
        "user_conversion_rate = user_conversion_rate.clip(upper=0.35)\n",
        "gross_margin = gross_margin.clip(lower=0.1)\n\n",
        "data = pd.DataFrame({\n",
        "    'bonus_pct': bonus_pct,\n",
        "    'user_conversion_rate': user_conversion_rate,\n",
        "    'average_LTV': average_ltv,\n",
        "    'gross_margin': gross_margin\n",
        "})\n\n",
        "data.head()"
      ]
    },
    {
      "cell_type": "markdown",
      "metadata": {},
      "source": [
        "## 2. Estimate elasticity and visualize"
      ]
    },
    {
      "cell_type": "code",
      "execution_count": null,
      "metadata": {},
      "outputs": [],
      "source": [
        "# Elasticity: change in LTV per 1 percentage point change in bonus\n",
        "# Convert bonus_pct to basis points to obtain elasticity per 1% change\n",
        "bonus_pct_points = data['bonus_pct'] * 100\n",
        "ltv = data['average_LTV']\n\n",
        "ltv_diff = ltv.diff()\n",
        "bonus_diff = bonus_pct_points.diff()\n",
        "ltv_elasticity = (ltv_diff / bonus_diff).fillna(0)\n\n",
        "# Store elasticity\n",
        "data['ltv_elasticity_per_pct'] = ltv_elasticity\n\n",
        "fig, ax = plt.subplots(figsize=(8, 5))\n",
        "ax.plot(data['bonus_pct'] * 100, data['ltv_elasticity_per_pct'], marker='o')\n",
        "ax.set_xlabel('Bonus %')\n",
        "ax.set_ylabel('\u0394LTV per 1% bonus change ($)')\n",
        "ax.set_title('LTV Elasticity Relative to Bonus Level')\n",
        "ax.grid(True, which='both', linestyle='--', linewidth=0.5)\n",
        "plt.tight_layout()\n",
        "plt.savefig('bonus_sensitivity_model/ltv_elasticity.png', dpi=150)\n",
        "plt.show()"
      ]
    },
    {
      "cell_type": "markdown",
      "metadata": {},
      "source": [
        "## 3. Evaluate growth vs. profitability trade-off"
      ]
    },
    {
      "cell_type": "code",
      "execution_count": null,
      "metadata": {},
      "outputs": [],
      "source": [
        "# Compute expected contribution margin per acquired user\n",
        "expected_revenue = data['user_conversion_rate'] * data['average_LTV']\n",
        "contribution_margin = expected_revenue * data['gross_margin']\n\n",
        "summary_table = data.assign(\n",
        "    expected_revenue=expected_revenue,\n",
        "    contribution_margin=contribution_margin\n",
        ")\n\n",
        "summary_table.round({\n",
        "    'bonus_pct': 3,\n",
        "    'user_conversion_rate': 3,\n",
        "    'average_LTV': 2,\n",
        "    'gross_margin': 3,\n",
        "    'ltv_elasticity_per_pct': 2,\n",
        "    'expected_revenue': 2,\n",
        "    'contribution_margin': 2\n",
        "})"
      ]
    },
    {
      "cell_type": "code",
      "execution_count": null,
      "metadata": {},
      "outputs": [],
      "source": [
        "# Save outputs\n",
        "summary_table.to_csv('bonus_sensitivity_model/bonus_sensitivity_data.csv', index=False)\n",
        "summary_table.head()"
      ]
    },
    {
      "cell_type": "markdown",
      "metadata": {},
      "source": [
        "The CSV file (`bonus_sensitivity_data.csv`) and elasticity chart (`ltv_elasticity.png`) are saved in the `bonus_sensitivity_model` directory for reference."
      ]
    }
  ],
  "metadata": {
    "kernelspec": {
      "display_name": "Python 3",
      "language": "python",
      "name": "python3"
    },
    "language_info": {
      "name": "python",
      "version": "3.10"
    }
  },
  "nbformat": 4,
  "nbformat_minor": 5
}
