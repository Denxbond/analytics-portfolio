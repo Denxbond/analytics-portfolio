{
 "cells": [
  {
   "cell_type": "markdown",
   "metadata": {},
   "source": [
    "# Forecasting Bonus-Driven Conversion Uplift\n",
    "\n",
    "This notebook examines how a limited-time bonus campaign impacts conversion rates and whether the uplift is sustainable. We model the observed data with exponential smoothing to estimate performance over the next two weeks."
   ]
  },
  {
   "cell_type": "markdown",
   "metadata": {},
   "source": [
    "## 1. Load campaign conversion data\n",
    "The dataset contains 60 days of synthetic conversion rates with a flag marking the period after the bonus launch." 
   ]
  },
  {
   "cell_type": "code",
   "execution_count": null,
   "metadata": {},
   "outputs": [],
   "source": [
    "import pandas as pd\n",
    "from statsmodels.tsa.holtwinters import ExponentialSmoothing\n",
    "import matplotlib.pyplot as plt\n",
    "from pathlib import Path\n"
   ]
  },
  {
   "cell_type": "code",
   "execution_count": null,
   "metadata": {},
   "outputs": [],
   "source": [
    "data_path = Path('..') / 'data' / 'synthetic_conversion_data.csv'\n",
    "df = pd.read_csv(data_path, parse_dates=['date'])\n",
    "df = df.sort_values('date').reset_index(drop=True)\n",
    "df.head()"
   ]
  },
  {
   "cell_type": "markdown",
   "metadata": {},
   "source": [
    "## 2. Fit exponential smoothing model\n",
    "We apply single exponential smoothing to capture the level shift from the bonus and forecast the next 14 days." 
   ]
  },
  {
   "cell_type": "code",
   "execution_count": null,
   "metadata": {},
   "outputs": [],
   "source": [
    "model = ExponentialSmoothing(df['conversion_rate'], trend=None, seasonal=None, initialization_method='heuristic')\n",
    "fit = model.fit(smoothing_level=0.35, optimized=False)\n",
    "forecast_horizon = 14\n",
    "forecast_index = pd.date_range(df['date'].iloc[-1] + pd.Timedelta(days=1), periods=forecast_horizon, freq='D')\n",
    "forecast_series = pd.Series(fit.forecast(forecast_horizon), index=forecast_index)\n",
    "forecast_series.head()"
   ]
  },
  {
   "cell_type": "markdown",
   "metadata": {},
   "source": [
    "## 3. Visualize historical and forecasted conversion\n",
    "The chart highlights the campaign launch date and compares actual conversions with the projected trajectory." 
   ]
  },
  {
   "cell_type": "code",
   "execution_count": null,
   "metadata": {},
   "outputs": [],
   "source": [
    "plt.figure(figsize=(12, 6))\n",
    "plt.plot(df['date'], df['conversion_rate'], label='Actual', color='#1E66C5')\n",
    "plt.plot(forecast_series.index, forecast_series.values, label='Forecast', color='#F2932D', linestyle='--')\n",
    "campaign_start = df.loc[~df['is_post_campaign'].shift(fill_value=False) & df['is_post_campaign'], 'date'].min()\n",
    "if pd.notnull(campaign_start):\n",
    "    plt.axvline(campaign_start, color='#C81E2E', linestyle=':', linewidth=2, label='Campaign launch')\n",
    "plt.title('Bonus Campaign Conversion Forecast')\n",
    "plt.ylabel('Conversion rate')\n",
    "plt.xlabel('Date')\n",
    "plt.legend()\n",
    "plt.grid(True, alpha=0.3)\n",
    "output_path = Path('..') / 'reports' / 'conversion_forecast_chart.png'\n",
    "plt.tight_layout()\n",
    "plt.savefig(output_path, dpi=150)\n",
    "plt.show()\n"
   ]
  },
  {
   "cell_type": "markdown",
   "metadata": {},
   "source": [
    "## 4. Insight\n",
    "The exponential smoothing forecast suggests that the bonus-induced uplift begins to taper off but remains above the pre-campaign baseline during the forecast window. Marketing can use this insight to plan follow-on promotions or retention offers if additional lift is required."
   ]
  }
 ],
 "metadata": {
  "kernelspec": {
   "display_name": "Python 3",
   "language": "python",
   "name": "python3"
  },
  "language_info": {
   "name": "python",
   "version": "3.10"
  }
 },
 "nbformat": 4,
 "nbformat_minor": 5
}
